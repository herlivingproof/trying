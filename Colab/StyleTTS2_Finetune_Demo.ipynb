{
  "nbformat": 4,
  "nbformat_minor": 0,
  "metadata": {
    "colab": {
      "provenance": [],
      "gpuType": "T4",
      "include_colab_link": true
    },
    "kernelspec": {
      "name": "python3",
      "display_name": "Python 3"
    },
    "language_info": {
      "name": "python"
    },
    "accelerator": "GPU"
  },
  "cells": [
    {
      "cell_type": "markdown",
      "metadata": {
        "id": "view-in-github",
        "colab_type": "text"
      },
      "source": [
        "<a href=\"https://colab.research.google.com/github/korakoe/StyleTTS2/blob/main/Colab/StyleTTS2_Finetune_Demo.ipynb\" target=\"_parent\"><img src=\"https://colab.research.google.com/assets/colab-badge.svg\" alt=\"Open In Colab\"/></a>"
      ]
    },
    {
      "cell_type": "markdown",
      "source": [
        "### Install packages and download models"
      ],
      "metadata": {
        "id": "yLqBa4uYPrqE"
      }
    },
    {
      "cell_type": "code",
      "source": [
        "# @title Mount Drive\n",
        "from google.colab import drive\n",
        "drive.mount('/content/drive')"
      ],
      "metadata": {
        "cellView": "form",
        "colab": {
          "base_uri": "https://localhost:8080/"
        },
        "id": "nG64C8KKDzh5",
        "outputId": "4a84d0ff-d9e5-4c05-f269-ddf3e890a0c9"
      },
      "execution_count": 1,
      "outputs": [
        {
          "output_type": "stream",
          "name": "stdout",
          "text": [
            "Mounted at /content/drive\n"
          ]
        }
      ]
    },
    {
      "cell_type": "code",
      "source": [
        "%%shell\n",
        "git clone https://github.com/yl4579/StyleTTS2.git\n",
        "cd StyleTTS2\n",
        "pip install SoundFile torchaudio munch torch pydub pyyaml librosa nltk matplotlib accelerate transformers phonemizer einops einops-exts tqdm typing-extensions git+https://github.com/resemble-ai/monotonic_align.git\n",
        "sudo apt-get install espeak-ng\n",
        "git-lfs clone https://huggingface.co/yl4579/StyleTTS2-LibriTTS\n",
        "mv StyleTTS2-LibriTTS/Models ."
      ],
      "metadata": {
        "id": "H72WF06ZPrTF",
        "colab": {
          "base_uri": "https://localhost:8080/"
        },
        "outputId": "90d19f4f-331a-4d58-8f0c-163863d4eb71"
      },
      "execution_count": 2,
      "outputs": [
        {
          "output_type": "stream",
          "name": "stdout",
          "text": [
            "Cloning into 'StyleTTS2'...\n",
            "remote: Enumerating objects: 308, done.\u001b[K\n",
            "remote: Counting objects: 100% (147/147), done.\u001b[K\n",
            "remote: Compressing objects: 100% (65/65), done.\u001b[K\n",
            "remote: Total 308 (delta 125), reused 86 (delta 82), pack-reused 161\u001b[K\n",
            "Receiving objects: 100% (308/308), 133.94 MiB | 36.29 MiB/s, done.\n",
            "Resolving deltas: 100% (167/167), done.\n",
            "Updating files: 100% (46/46), done.\n",
            "Collecting git+https://github.com/resemble-ai/monotonic_align.git\n",
            "  Cloning https://github.com/resemble-ai/monotonic_align.git to /tmp/pip-req-build-k2y8ocat\n",
            "  Running command git clone --filter=blob:none --quiet https://github.com/resemble-ai/monotonic_align.git /tmp/pip-req-build-k2y8ocat\n",
            "  Resolved https://github.com/resemble-ai/monotonic_align.git to commit 78b985be210a03d08bc3acc01c4df0442105366f\n",
            "  Installing build dependencies ... \u001b[?25l\u001b[?25hdone\n",
            "  Getting requirements to build wheel ... \u001b[?25l\u001b[?25hdone\n",
            "  Preparing metadata (pyproject.toml) ... \u001b[?25l\u001b[?25hdone\n",
            "Requirement already satisfied: SoundFile in /usr/local/lib/python3.10/dist-packages (0.12.1)\n",
            "Requirement already satisfied: torchaudio in /usr/local/lib/python3.10/dist-packages (2.1.0+cu118)\n",
            "Collecting munch\n",
            "  Downloading munch-4.0.0-py2.py3-none-any.whl (9.9 kB)\n",
            "Requirement already satisfied: torch in /usr/local/lib/python3.10/dist-packages (2.1.0+cu118)\n",
            "Collecting pydub\n",
            "  Downloading pydub-0.25.1-py2.py3-none-any.whl (32 kB)\n",
            "Requirement already satisfied: pyyaml in /usr/local/lib/python3.10/dist-packages (6.0.1)\n",
            "Requirement already satisfied: librosa in /usr/local/lib/python3.10/dist-packages (0.10.1)\n",
            "Requirement already satisfied: nltk in /usr/local/lib/python3.10/dist-packages (3.8.1)\n",
            "Requirement already satisfied: matplotlib in /usr/local/lib/python3.10/dist-packages (3.7.1)\n",
            "Collecting accelerate\n",
            "  Downloading accelerate-0.24.1-py3-none-any.whl (261 kB)\n",
            "\u001b[2K     \u001b[90m━━━━━━━━━━━━━━━━━━━━━━━━━━━━━━━━━━━━━━━━\u001b[0m \u001b[32m261.4/261.4 kB\u001b[0m \u001b[31m5.3 MB/s\u001b[0m eta \u001b[36m0:00:00\u001b[0m\n",
            "\u001b[?25hRequirement already satisfied: transformers in /usr/local/lib/python3.10/dist-packages (4.35.2)\n",
            "Collecting phonemizer\n",
            "  Downloading phonemizer-3.2.1-py3-none-any.whl (90 kB)\n",
            "\u001b[2K     \u001b[90m━━━━━━━━━━━━━━━━━━━━━━━━━━━━━━━━━━━━━━━━\u001b[0m \u001b[32m90.6/90.6 kB\u001b[0m \u001b[31m6.5 MB/s\u001b[0m eta \u001b[36m0:00:00\u001b[0m\n",
            "\u001b[?25hCollecting einops\n",
            "  Downloading einops-0.7.0-py3-none-any.whl (44 kB)\n",
            "\u001b[2K     \u001b[90m━━━━━━━━━━━━━━━━━━━━━━━━━━━━━━━━━━━━━━━━\u001b[0m \u001b[32m44.6/44.6 kB\u001b[0m \u001b[31m5.7 MB/s\u001b[0m eta \u001b[36m0:00:00\u001b[0m\n",
            "\u001b[?25hCollecting einops-exts\n",
            "  Downloading einops_exts-0.0.4-py3-none-any.whl (3.9 kB)\n",
            "Requirement already satisfied: tqdm in /usr/local/lib/python3.10/dist-packages (4.66.1)\n",
            "Requirement already satisfied: typing-extensions in /usr/local/lib/python3.10/dist-packages (4.5.0)\n",
            "Requirement already satisfied: cffi>=1.0 in /usr/local/lib/python3.10/dist-packages (from SoundFile) (1.16.0)\n",
            "Requirement already satisfied: filelock in /usr/local/lib/python3.10/dist-packages (from torch) (3.13.1)\n",
            "Requirement already satisfied: sympy in /usr/local/lib/python3.10/dist-packages (from torch) (1.12)\n",
            "Requirement already satisfied: networkx in /usr/local/lib/python3.10/dist-packages (from torch) (3.2.1)\n",
            "Requirement already satisfied: jinja2 in /usr/local/lib/python3.10/dist-packages (from torch) (3.1.2)\n",
            "Requirement already satisfied: fsspec in /usr/local/lib/python3.10/dist-packages (from torch) (2023.6.0)\n",
            "Requirement already satisfied: triton==2.1.0 in /usr/local/lib/python3.10/dist-packages (from torch) (2.1.0)\n",
            "Requirement already satisfied: audioread>=2.1.9 in /usr/local/lib/python3.10/dist-packages (from librosa) (3.0.1)\n",
            "Requirement already satisfied: numpy!=1.22.0,!=1.22.1,!=1.22.2,>=1.20.3 in /usr/local/lib/python3.10/dist-packages (from librosa) (1.23.5)\n",
            "Requirement already satisfied: scipy>=1.2.0 in /usr/local/lib/python3.10/dist-packages (from librosa) (1.11.3)\n",
            "Requirement already satisfied: scikit-learn>=0.20.0 in /usr/local/lib/python3.10/dist-packages (from librosa) (1.2.2)\n",
            "Requirement already satisfied: joblib>=0.14 in /usr/local/lib/python3.10/dist-packages (from librosa) (1.3.2)\n",
            "Requirement already satisfied: decorator>=4.3.0 in /usr/local/lib/python3.10/dist-packages (from librosa) (4.4.2)\n",
            "Requirement already satisfied: numba>=0.51.0 in /usr/local/lib/python3.10/dist-packages (from librosa) (0.58.1)\n",
            "Requirement already satisfied: pooch>=1.0 in /usr/local/lib/python3.10/dist-packages (from librosa) (1.8.0)\n",
            "Requirement already satisfied: soxr>=0.3.2 in /usr/local/lib/python3.10/dist-packages (from librosa) (0.3.7)\n",
            "Requirement already satisfied: lazy-loader>=0.1 in /usr/local/lib/python3.10/dist-packages (from librosa) (0.3)\n",
            "Requirement already satisfied: msgpack>=1.0 in /usr/local/lib/python3.10/dist-packages (from librosa) (1.0.7)\n",
            "Requirement already satisfied: click in /usr/local/lib/python3.10/dist-packages (from nltk) (8.1.7)\n",
            "Requirement already satisfied: regex>=2021.8.3 in /usr/local/lib/python3.10/dist-packages (from nltk) (2023.6.3)\n",
            "Requirement already satisfied: contourpy>=1.0.1 in /usr/local/lib/python3.10/dist-packages (from matplotlib) (1.2.0)\n",
            "Requirement already satisfied: cycler>=0.10 in /usr/local/lib/python3.10/dist-packages (from matplotlib) (0.12.1)\n",
            "Requirement already satisfied: fonttools>=4.22.0 in /usr/local/lib/python3.10/dist-packages (from matplotlib) (4.44.3)\n",
            "Requirement already satisfied: kiwisolver>=1.0.1 in /usr/local/lib/python3.10/dist-packages (from matplotlib) (1.4.5)\n",
            "Requirement already satisfied: packaging>=20.0 in /usr/local/lib/python3.10/dist-packages (from matplotlib) (23.2)\n",
            "Requirement already satisfied: pillow>=6.2.0 in /usr/local/lib/python3.10/dist-packages (from matplotlib) (9.4.0)\n",
            "Requirement already satisfied: pyparsing>=2.3.1 in /usr/local/lib/python3.10/dist-packages (from matplotlib) (3.1.1)\n",
            "Requirement already satisfied: python-dateutil>=2.7 in /usr/local/lib/python3.10/dist-packages (from matplotlib) (2.8.2)\n",
            "Requirement already satisfied: psutil in /usr/local/lib/python3.10/dist-packages (from accelerate) (5.9.5)\n",
            "Requirement already satisfied: huggingface-hub in /usr/local/lib/python3.10/dist-packages (from accelerate) (0.19.4)\n",
            "Requirement already satisfied: requests in /usr/local/lib/python3.10/dist-packages (from transformers) (2.31.0)\n",
            "Requirement already satisfied: tokenizers<0.19,>=0.14 in /usr/local/lib/python3.10/dist-packages (from transformers) (0.15.0)\n",
            "Requirement already satisfied: safetensors>=0.3.1 in /usr/local/lib/python3.10/dist-packages (from transformers) (0.4.0)\n",
            "Collecting segments (from phonemizer)\n",
            "  Downloading segments-2.2.1-py2.py3-none-any.whl (15 kB)\n",
            "Requirement already satisfied: attrs>=18.1 in /usr/local/lib/python3.10/dist-packages (from phonemizer) (23.1.0)\n",
            "Collecting dlinfo (from phonemizer)\n",
            "  Downloading dlinfo-1.2.1-py3-none-any.whl (3.6 kB)\n",
            "Requirement already satisfied: pycparser in /usr/local/lib/python3.10/dist-packages (from cffi>=1.0->SoundFile) (2.21)\n",
            "Requirement already satisfied: llvmlite<0.42,>=0.41.0dev0 in /usr/local/lib/python3.10/dist-packages (from numba>=0.51.0->librosa) (0.41.1)\n",
            "Requirement already satisfied: platformdirs>=2.5.0 in /usr/local/lib/python3.10/dist-packages (from pooch>=1.0->librosa) (4.0.0)\n",
            "Requirement already satisfied: six>=1.5 in /usr/local/lib/python3.10/dist-packages (from python-dateutil>=2.7->matplotlib) (1.16.0)\n",
            "Requirement already satisfied: charset-normalizer<4,>=2 in /usr/local/lib/python3.10/dist-packages (from requests->transformers) (3.3.2)\n",
            "Requirement already satisfied: idna<4,>=2.5 in /usr/local/lib/python3.10/dist-packages (from requests->transformers) (3.4)\n",
            "Requirement already satisfied: urllib3<3,>=1.21.1 in /usr/local/lib/python3.10/dist-packages (from requests->transformers) (2.0.7)\n",
            "Requirement already satisfied: certifi>=2017.4.17 in /usr/local/lib/python3.10/dist-packages (from requests->transformers) (2023.7.22)\n",
            "Requirement already satisfied: threadpoolctl>=2.0.0 in /usr/local/lib/python3.10/dist-packages (from scikit-learn>=0.20.0->librosa) (3.2.0)\n",
            "Requirement already satisfied: MarkupSafe>=2.0 in /usr/local/lib/python3.10/dist-packages (from jinja2->torch) (2.1.3)\n",
            "Collecting clldutils>=1.7.3 (from segments->phonemizer)\n",
            "  Downloading clldutils-3.20.0-py2.py3-none-any.whl (1.7 MB)\n",
            "\u001b[2K     \u001b[90m━━━━━━━━━━━━━━━━━━━━━━━━━━━━━━━━━━━━━━━━\u001b[0m \u001b[32m1.7/1.7 MB\u001b[0m \u001b[31m11.2 MB/s\u001b[0m eta \u001b[36m0:00:00\u001b[0m\n",
            "\u001b[?25hCollecting csvw>=1.5.6 (from segments->phonemizer)\n",
            "  Downloading csvw-3.2.1-py2.py3-none-any.whl (56 kB)\n",
            "\u001b[2K     \u001b[90m━━━━━━━━━━━━━━━━━━━━━━━━━━━━━━━━━━━━━━━━\u001b[0m \u001b[32m56.7/56.7 kB\u001b[0m \u001b[31m8.5 MB/s\u001b[0m eta \u001b[36m0:00:00\u001b[0m\n",
            "\u001b[?25hRequirement already satisfied: mpmath>=0.19 in /usr/local/lib/python3.10/dist-packages (from sympy->torch) (1.3.0)\n",
            "Requirement already satisfied: tabulate>=0.7.7 in /usr/local/lib/python3.10/dist-packages (from clldutils>=1.7.3->segments->phonemizer) (0.9.0)\n",
            "Collecting colorlog (from clldutils>=1.7.3->segments->phonemizer)\n",
            "  Downloading colorlog-6.7.0-py2.py3-none-any.whl (11 kB)\n",
            "Collecting pylatexenc (from clldutils>=1.7.3->segments->phonemizer)\n",
            "  Downloading pylatexenc-2.10.tar.gz (162 kB)\n",
            "\u001b[2K     \u001b[90m━━━━━━━━━━━━━━━━━━━━━━━━━━━━━━━━━━━━━━━━\u001b[0m \u001b[32m162.6/162.6 kB\u001b[0m \u001b[31m14.5 MB/s\u001b[0m eta \u001b[36m0:00:00\u001b[0m\n",
            "\u001b[?25h  Preparing metadata (setup.py) ... \u001b[?25l\u001b[?25hdone\n",
            "Requirement already satisfied: markdown in /usr/local/lib/python3.10/dist-packages (from clldutils>=1.7.3->segments->phonemizer) (3.5.1)\n",
            "Requirement already satisfied: lxml in /usr/local/lib/python3.10/dist-packages (from clldutils>=1.7.3->segments->phonemizer) (4.9.3)\n",
            "Requirement already satisfied: babel in /usr/local/lib/python3.10/dist-packages (from csvw>=1.5.6->segments->phonemizer) (2.13.1)\n",
            "Collecting colorama (from csvw>=1.5.6->segments->phonemizer)\n",
            "  Downloading colorama-0.4.6-py2.py3-none-any.whl (25 kB)\n",
            "Collecting isodate (from csvw>=1.5.6->segments->phonemizer)\n",
            "  Downloading isodate-0.6.1-py2.py3-none-any.whl (41 kB)\n",
            "\u001b[2K     \u001b[90m━━━━━━━━━━━━━━━━━━━━━━━━━━━━━━━━━━━━━━━━\u001b[0m \u001b[32m41.7/41.7 kB\u001b[0m \u001b[31m3.9 MB/s\u001b[0m eta \u001b[36m0:00:00\u001b[0m\n",
            "\u001b[?25hRequirement already satisfied: jsonschema in /usr/local/lib/python3.10/dist-packages (from csvw>=1.5.6->segments->phonemizer) (4.19.2)\n",
            "Collecting language-tags (from csvw>=1.5.6->segments->phonemizer)\n",
            "  Downloading language_tags-1.2.0-py3-none-any.whl (213 kB)\n",
            "\u001b[2K     \u001b[90m━━━━━━━━━━━━━━━━━━━━━━━━━━━━━━━━━━━━━━━━\u001b[0m \u001b[32m213.4/213.4 kB\u001b[0m \u001b[31m12.0 MB/s\u001b[0m eta \u001b[36m0:00:00\u001b[0m\n",
            "\u001b[?25hCollecting rdflib (from csvw>=1.5.6->segments->phonemizer)\n",
            "  Downloading rdflib-7.0.0-py3-none-any.whl (531 kB)\n",
            "\u001b[2K     \u001b[90m━━━━━━━━━━━━━━━━━━━━━━━━━━━━━━━━━━━━━━━━\u001b[0m \u001b[32m531.9/531.9 kB\u001b[0m \u001b[31m17.1 MB/s\u001b[0m eta \u001b[36m0:00:00\u001b[0m\n",
            "\u001b[?25hCollecting rfc3986<2 (from csvw>=1.5.6->segments->phonemizer)\n",
            "  Downloading rfc3986-1.5.0-py2.py3-none-any.whl (31 kB)\n",
            "Requirement already satisfied: uritemplate>=3.0.0 in /usr/local/lib/python3.10/dist-packages (from csvw>=1.5.6->segments->phonemizer) (4.1.1)\n",
            "Requirement already satisfied: jsonschema-specifications>=2023.03.6 in /usr/local/lib/python3.10/dist-packages (from jsonschema->csvw>=1.5.6->segments->phonemizer) (2023.11.1)\n",
            "Requirement already satisfied: referencing>=0.28.4 in /usr/local/lib/python3.10/dist-packages (from jsonschema->csvw>=1.5.6->segments->phonemizer) (0.31.0)\n",
            "Requirement already satisfied: rpds-py>=0.7.1 in /usr/local/lib/python3.10/dist-packages (from jsonschema->csvw>=1.5.6->segments->phonemizer) (0.13.0)\n",
            "Building wheels for collected packages: monotonic-align, pylatexenc\n",
            "  Building wheel for monotonic-align (pyproject.toml) ... \u001b[?25l\u001b[?25hdone\n",
            "  Created wheel for monotonic-align: filename=monotonic_align-1.2-cp310-cp310-linux_x86_64.whl size=1418926 sha256=e58adb7d70893f682c87137025cbfc5047660265877960e85e1b25c352c0d48b\n",
            "  Stored in directory: /tmp/pip-ephem-wheel-cache-tldz_rmq/wheels/62/6e/e2/2758abe7d7bf44cf150d943471be9836770e7c40c1daf4b7bd\n",
            "  Building wheel for pylatexenc (setup.py) ... \u001b[?25l\u001b[?25hdone\n",
            "  Created wheel for pylatexenc: filename=pylatexenc-2.10-py3-none-any.whl size=136818 sha256=682f01a1fff5efe8d58575080553f9ee3cc5cbe22dd6b78675822ed2b9546a9b\n",
            "  Stored in directory: /root/.cache/pip/wheels/d3/31/8b/e09b0386afd80cfc556c00408c9aeea5c35c4d484a9c762fd5\n",
            "Successfully built monotonic-align pylatexenc\n",
            "Installing collected packages: rfc3986, pylatexenc, pydub, language-tags, dlinfo, munch, monotonic-align, isodate, einops, colorlog, colorama, rdflib, einops-exts, clldutils, accelerate, csvw, segments, phonemizer\n",
            "Successfully installed accelerate-0.24.1 clldutils-3.20.0 colorama-0.4.6 colorlog-6.7.0 csvw-3.2.1 dlinfo-1.2.1 einops-0.7.0 einops-exts-0.0.4 isodate-0.6.1 language-tags-1.2.0 monotonic-align-1.2 munch-4.0.0 phonemizer-3.2.1 pydub-0.25.1 pylatexenc-2.10 rdflib-7.0.0 rfc3986-1.5.0 segments-2.2.1\n",
            "Reading package lists... Done\n",
            "Building dependency tree... Done\n",
            "Reading state information... Done\n",
            "The following additional packages will be installed:\n",
            "  espeak-ng-data libespeak-ng1 libpcaudio0 libsonic0\n",
            "The following NEW packages will be installed:\n",
            "  espeak-ng espeak-ng-data libespeak-ng1 libpcaudio0 libsonic0\n",
            "0 upgraded, 5 newly installed, 0 to remove and 10 not upgraded.\n",
            "Need to get 4,525 kB of archives.\n",
            "After this operation, 11.9 MB of additional disk space will be used.\n",
            "Get:1 http://archive.ubuntu.com/ubuntu jammy/main amd64 libpcaudio0 amd64 1.1-6build2 [8,956 B]\n",
            "Get:2 http://archive.ubuntu.com/ubuntu jammy/main amd64 libsonic0 amd64 0.2.0-11build1 [10.3 kB]\n",
            "Get:3 http://archive.ubuntu.com/ubuntu jammy/main amd64 espeak-ng-data amd64 1.50+dfsg-10 [3,956 kB]\n",
            "Get:4 http://archive.ubuntu.com/ubuntu jammy/main amd64 libespeak-ng1 amd64 1.50+dfsg-10 [207 kB]\n",
            "Get:5 http://archive.ubuntu.com/ubuntu jammy/universe amd64 espeak-ng amd64 1.50+dfsg-10 [343 kB]\n",
            "Fetched 4,525 kB in 1s (5,203 kB/s)\n",
            "debconf: unable to initialize frontend: Dialog\n",
            "debconf: (No usable dialog-like program is installed, so the dialog based frontend cannot be used. at /usr/share/perl5/Debconf/FrontEnd/Dialog.pm line 78, <> line 5.)\n",
            "debconf: falling back to frontend: Readline\n",
            "debconf: unable to initialize frontend: Readline\n",
            "debconf: (This frontend requires a controlling tty.)\n",
            "debconf: falling back to frontend: Teletype\n",
            "dpkg-preconfigure: unable to re-open stdin: \n",
            "Selecting previously unselected package libpcaudio0:amd64.\n",
            "(Reading database ... 120880 files and directories currently installed.)\n",
            "Preparing to unpack .../libpcaudio0_1.1-6build2_amd64.deb ...\n",
            "Unpacking libpcaudio0:amd64 (1.1-6build2) ...\n",
            "Selecting previously unselected package libsonic0:amd64.\n",
            "Preparing to unpack .../libsonic0_0.2.0-11build1_amd64.deb ...\n",
            "Unpacking libsonic0:amd64 (0.2.0-11build1) ...\n",
            "Selecting previously unselected package espeak-ng-data:amd64.\n",
            "Preparing to unpack .../espeak-ng-data_1.50+dfsg-10_amd64.deb ...\n",
            "Unpacking espeak-ng-data:amd64 (1.50+dfsg-10) ...\n",
            "Selecting previously unselected package libespeak-ng1:amd64.\n",
            "Preparing to unpack .../libespeak-ng1_1.50+dfsg-10_amd64.deb ...\n",
            "Unpacking libespeak-ng1:amd64 (1.50+dfsg-10) ...\n",
            "Selecting previously unselected package espeak-ng.\n",
            "Preparing to unpack .../espeak-ng_1.50+dfsg-10_amd64.deb ...\n",
            "Unpacking espeak-ng (1.50+dfsg-10) ...\n",
            "Setting up libpcaudio0:amd64 (1.1-6build2) ...\n",
            "Setting up libsonic0:amd64 (0.2.0-11build1) ...\n",
            "Setting up espeak-ng-data:amd64 (1.50+dfsg-10) ...\n",
            "Setting up libespeak-ng1:amd64 (1.50+dfsg-10) ...\n",
            "Setting up espeak-ng (1.50+dfsg-10) ...\n",
            "Processing triggers for man-db (2.10.2-1) ...\n",
            "Processing triggers for libc-bin (2.35-0ubuntu3.4) ...\n",
            "/sbin/ldconfig.real: /usr/local/lib/libtbbbind_2_0.so.3 is not a symbolic link\n",
            "\n",
            "/sbin/ldconfig.real: /usr/local/lib/libtbbmalloc.so.2 is not a symbolic link\n",
            "\n",
            "/sbin/ldconfig.real: /usr/local/lib/libtbbbind_2_5.so.3 is not a symbolic link\n",
            "\n",
            "/sbin/ldconfig.real: /usr/local/lib/libtbb.so.12 is not a symbolic link\n",
            "\n",
            "/sbin/ldconfig.real: /usr/local/lib/libtbbmalloc_proxy.so.2 is not a symbolic link\n",
            "\n",
            "/sbin/ldconfig.real: /usr/local/lib/libtbbbind.so.3 is not a symbolic link\n",
            "\n",
            "WARNING: 'git lfs clone' is deprecated and will not be updated\n",
            "          with new flags from 'git clone'\n",
            "\n",
            "'git clone' has been updated in upstream Git to have comparable\n",
            "speeds to 'git lfs clone'.\n",
            "Cloning into 'StyleTTS2-LibriTTS'...\n",
            "remote: Enumerating objects: 25, done.\u001b[K\n",
            "remote: Counting objects: 100% (12/12), done.\u001b[K\n",
            "remote: Compressing objects: 100% (9/9), done.\u001b[K\n",
            "remote: Total 25 (delta 0), reused 0 (delta 0), pack-reused 13\u001b[K\n",
            "Unpacking objects: 100% (25/25), 3.73 KiB | 764.00 KiB/s, done.\n"
          ]
        },
        {
          "output_type": "execute_result",
          "data": {
            "text/plain": []
          },
          "metadata": {},
          "execution_count": 2
        }
      ]
    },
    {
      "cell_type": "markdown",
      "source": [
        "### Download dataset (LJSpeech, 200 samples, ~15 minutes of data)\n",
        "\n",
        "You can definitely do it with fewer samples. This is just a proof of concept with 200 smaples."
      ],
      "metadata": {
        "id": "G398sL8wPzTB"
      }
    },
    {
      "cell_type": "code",
      "source": [
        "%cd StyleTTS2\n",
        "!rm -rf Data"
      ],
      "metadata": {
        "id": "kJuQUBrEPy5C",
        "colab": {
          "base_uri": "https://localhost:8080/"
        },
        "outputId": "008ecc39-fceb-4efe-fc8b-3321db30869c"
      },
      "execution_count": 3,
      "outputs": [
        {
          "output_type": "stream",
          "name": "stdout",
          "text": [
            "/content/StyleTTS2\n"
          ]
        }
      ]
    },
    {
      "cell_type": "code",
      "source": [
        "!gdown --id 1vqz26D3yn7OXS2vbfYxfSnpLS6m6tOFP\n",
        "!unzip Data.zip"
      ],
      "metadata": {
        "id": "mDXW8ZZePuSb"
      },
      "execution_count": null,
      "outputs": []
    },
    {
      "cell_type": "markdown",
      "source": [
        "### Convert Unphonemized (only do if you're using a text based ljspeech dataset)"
      ],
      "metadata": {
        "id": "3m93S00hq7pE"
      }
    },
    {
      "cell_type": "code",
      "source": [
        "# @title Convert\n",
        "path_to_wavs_txt = \"/content/drive/MyDrive/voice_clones/flawful/wavs.txt\" # @param {type:\"string\"}\n",
        "save_to_path = \"/content/drive/MyDrive/voice_clones/flawful/val_list.txt\" # @param {type:\"string\"}\n",
        "import phonemizer\n",
        "from tqdm import tqdm\n",
        "\n",
        "with open(path_to_wavs_txt, 'r', encoding=\"utf8\") as fh:\n",
        "    lines = fh.readlines()\n",
        "\n",
        "final = []\n",
        "for line in tqdm(lines):\n",
        "    data = line.replace(\"\\n\", \"\").split(\"|\")\n",
        "    data[1] = phonemizer.phonemize(data[1], backend=\"espeak\", with_stress=True, preserve_punctuation=True, njobs=4, strip=True)\n",
        "    if len(data) < 3:\n",
        "        data.append(0)\n",
        "\n",
        "    final.append(f\"{data[0]}|{data[1]}|{data[2]}\")\n",
        "\n",
        "with open(save_to_path, 'w', encoding=\"utf8\") as fh:\n",
        "    final = \"\\n\".join(final)\n",
        "    fh.write(final)"
      ],
      "metadata": {
        "id": "Ql8NXtQGrSDT",
        "colab": {
          "base_uri": "https://localhost:8080/"
        },
        "outputId": "056b6258-a35f-4bdb-c7de-bde74fb0975d"
      },
      "execution_count": 5,
      "outputs": [
        {
          "output_type": "stream",
          "name": "stderr",
          "text": [
            "\r  0%|          | 0/181 [00:00<?, ?it/s]WARNING:phonemizer:words count mismatch on 100.0% of the lines (1/1)\n",
            "WARNING:phonemizer:words count mismatch on 100.0% of the lines (1/1)\n",
            "  1%|          | 2/181 [00:00<00:09, 18.08it/s]WARNING:phonemizer:words count mismatch on 100.0% of the lines (1/1)\n",
            "WARNING:phonemizer:words count mismatch on 100.0% of the lines (1/1)\n",
            "  2%|▏         | 4/181 [00:00<00:09, 18.38it/s]WARNING:phonemizer:words count mismatch on 100.0% of the lines (1/1)\n",
            "  3%|▎         | 6/181 [00:00<00:09, 17.81it/s]WARNING:phonemizer:words count mismatch on 100.0% of the lines (1/1)\n",
            "WARNING:phonemizer:words count mismatch on 100.0% of the lines (1/1)\n",
            "  4%|▍         | 8/181 [00:00<00:10, 16.62it/s]WARNING:phonemizer:words count mismatch on 100.0% of the lines (1/1)\n",
            "WARNING:phonemizer:words count mismatch on 100.0% of the lines (1/1)\n",
            "  6%|▌         | 10/181 [00:00<00:10, 16.07it/s]WARNING:phonemizer:words count mismatch on 100.0% of the lines (1/1)\n",
            "WARNING:phonemizer:words count mismatch on 100.0% of the lines (1/1)\n",
            "  7%|▋         | 12/181 [00:00<00:10, 15.97it/s]WARNING:phonemizer:words count mismatch on 100.0% of the lines (1/1)\n",
            "  8%|▊         | 14/181 [00:00<00:10, 16.32it/s]WARNING:phonemizer:words count mismatch on 100.0% of the lines (1/1)\n",
            "WARNING:phonemizer:words count mismatch on 100.0% of the lines (1/1)\n",
            "  9%|▉         | 16/181 [00:00<00:10, 16.31it/s]WARNING:phonemizer:words count mismatch on 100.0% of the lines (1/1)\n",
            "WARNING:phonemizer:words count mismatch on 100.0% of the lines (1/1)\n",
            " 10%|▉         | 18/181 [00:01<00:09, 17.06it/s]WARNING:phonemizer:words count mismatch on 100.0% of the lines (1/1)\n",
            "WARNING:phonemizer:words count mismatch on 100.0% of the lines (1/1)\n",
            " 11%|█         | 20/181 [00:01<00:09, 17.27it/s]WARNING:phonemizer:words count mismatch on 100.0% of the lines (1/1)\n",
            "WARNING:phonemizer:words count mismatch on 100.0% of the lines (1/1)\n",
            " 12%|█▏        | 22/181 [00:01<00:09, 17.59it/s]WARNING:phonemizer:words count mismatch on 100.0% of the lines (1/1)\n",
            "WARNING:phonemizer:words count mismatch on 100.0% of the lines (1/1)\n",
            " 13%|█▎        | 24/181 [00:01<00:09, 15.82it/s]WARNING:phonemizer:words count mismatch on 100.0% of the lines (1/1)\n",
            "WARNING:phonemizer:words count mismatch on 100.0% of the lines (1/1)\n",
            " 14%|█▍        | 26/181 [00:01<00:09, 16.55it/s]WARNING:phonemizer:words count mismatch on 100.0% of the lines (1/1)\n",
            "WARNING:phonemizer:words count mismatch on 100.0% of the lines (1/1)\n",
            " 15%|█▌        | 28/181 [00:01<00:09, 17.00it/s]WARNING:phonemizer:words count mismatch on 100.0% of the lines (1/1)\n",
            "WARNING:phonemizer:words count mismatch on 100.0% of the lines (1/1)\n",
            " 17%|█▋        | 30/181 [00:01<00:08, 17.54it/s]WARNING:phonemizer:words count mismatch on 100.0% of the lines (1/1)\n",
            "WARNING:phonemizer:words count mismatch on 100.0% of the lines (1/1)\n",
            " 18%|█▊        | 32/181 [00:01<00:08, 17.47it/s]WARNING:phonemizer:words count mismatch on 100.0% of the lines (1/1)\n",
            "WARNING:phonemizer:words count mismatch on 100.0% of the lines (1/1)\n",
            " 19%|█▉        | 34/181 [00:02<00:09, 16.08it/s]WARNING:phonemizer:words count mismatch on 100.0% of the lines (1/1)\n",
            " 20%|█▉        | 36/181 [00:02<00:09, 15.55it/s]WARNING:phonemizer:words count mismatch on 100.0% of the lines (1/1)\n",
            "WARNING:phonemizer:words count mismatch on 100.0% of the lines (1/1)\n",
            " 21%|██        | 38/181 [00:02<00:09, 15.14it/s]WARNING:phonemizer:words count mismatch on 100.0% of the lines (1/1)\n",
            "WARNING:phonemizer:words count mismatch on 100.0% of the lines (1/1)\n",
            " 22%|██▏       | 40/181 [00:02<00:09, 14.98it/s]WARNING:phonemizer:words count mismatch on 100.0% of the lines (1/1)\n",
            " 23%|██▎       | 42/181 [00:02<00:08, 15.80it/s]WARNING:phonemizer:words count mismatch on 100.0% of the lines (1/1)\n",
            "WARNING:phonemizer:words count mismatch on 100.0% of the lines (1/1)\n",
            " 24%|██▍       | 44/181 [00:02<00:08, 16.13it/s]WARNING:phonemizer:words count mismatch on 100.0% of the lines (1/1)\n",
            "WARNING:phonemizer:words count mismatch on 100.0% of the lines (1/1)\n",
            " 25%|██▌       | 46/181 [00:02<00:08, 15.83it/s]WARNING:phonemizer:words count mismatch on 100.0% of the lines (1/1)\n",
            " 27%|██▋       | 48/181 [00:02<00:08, 15.95it/s]WARNING:phonemizer:words count mismatch on 100.0% of the lines (1/1)\n",
            "WARNING:phonemizer:words count mismatch on 100.0% of the lines (1/1)\n",
            " 28%|██▊       | 50/181 [00:03<00:08, 15.95it/s]WARNING:phonemizer:words count mismatch on 100.0% of the lines (1/1)\n",
            " 29%|██▊       | 52/181 [00:03<00:07, 16.49it/s]WARNING:phonemizer:words count mismatch on 100.0% of the lines (1/1)\n",
            "WARNING:phonemizer:words count mismatch on 100.0% of the lines (1/1)\n",
            " 30%|██▉       | 54/181 [00:03<00:07, 16.26it/s]WARNING:phonemizer:words count mismatch on 100.0% of the lines (1/1)\n",
            "WARNING:phonemizer:words count mismatch on 100.0% of the lines (1/1)\n",
            " 31%|███       | 56/181 [00:03<00:07, 16.28it/s]WARNING:phonemizer:words count mismatch on 100.0% of the lines (1/1)\n",
            "WARNING:phonemizer:words count mismatch on 100.0% of the lines (1/1)\n",
            " 32%|███▏      | 58/181 [00:03<00:07, 15.82it/s]WARNING:phonemizer:words count mismatch on 100.0% of the lines (1/1)\n",
            "WARNING:phonemizer:words count mismatch on 100.0% of the lines (1/1)\n",
            " 33%|███▎      | 60/181 [00:03<00:07, 16.26it/s]WARNING:phonemizer:words count mismatch on 100.0% of the lines (1/1)\n",
            "WARNING:phonemizer:words count mismatch on 100.0% of the lines (1/1)\n",
            " 34%|███▍      | 62/181 [00:03<00:07, 16.73it/s]WARNING:phonemizer:words count mismatch on 100.0% of the lines (1/1)\n",
            "WARNING:phonemizer:words count mismatch on 100.0% of the lines (1/1)\n",
            " 35%|███▌      | 64/181 [00:03<00:06, 17.03it/s]WARNING:phonemizer:words count mismatch on 100.0% of the lines (1/1)\n",
            "WARNING:phonemizer:words count mismatch on 100.0% of the lines (1/1)\n",
            " 36%|███▋      | 66/181 [00:04<00:07, 16.33it/s]WARNING:phonemizer:words count mismatch on 100.0% of the lines (1/1)\n",
            "WARNING:phonemizer:words count mismatch on 100.0% of the lines (1/1)\n",
            " 38%|███▊      | 68/181 [00:04<00:06, 16.18it/s]WARNING:phonemizer:words count mismatch on 100.0% of the lines (1/1)\n",
            "WARNING:phonemizer:words count mismatch on 100.0% of the lines (1/1)\n",
            " 39%|███▊      | 70/181 [00:04<00:06, 16.10it/s]WARNING:phonemizer:words count mismatch on 100.0% of the lines (1/1)\n",
            "WARNING:phonemizer:words count mismatch on 100.0% of the lines (1/1)\n",
            " 40%|███▉      | 72/181 [00:04<00:06, 16.81it/s]WARNING:phonemizer:words count mismatch on 100.0% of the lines (1/1)\n",
            " 41%|████      | 74/181 [00:04<00:06, 16.08it/s]WARNING:phonemizer:words count mismatch on 100.0% of the lines (1/1)\n",
            "WARNING:phonemizer:words count mismatch on 100.0% of the lines (1/1)\n",
            " 42%|████▏     | 76/181 [00:04<00:06, 16.62it/s]WARNING:phonemizer:words count mismatch on 100.0% of the lines (1/1)\n",
            " 43%|████▎     | 78/181 [00:04<00:05, 17.19it/s]WARNING:phonemizer:words count mismatch on 100.0% of the lines (1/1)\n",
            "WARNING:phonemizer:words count mismatch on 100.0% of the lines (1/1)\n",
            " 44%|████▍     | 80/181 [00:04<00:05, 17.02it/s]WARNING:phonemizer:words count mismatch on 100.0% of the lines (1/1)\n",
            "WARNING:phonemizer:words count mismatch on 100.0% of the lines (1/1)\n",
            " 45%|████▌     | 82/181 [00:04<00:05, 16.80it/s]WARNING:phonemizer:words count mismatch on 100.0% of the lines (1/1)\n",
            "WARNING:phonemizer:words count mismatch on 100.0% of the lines (1/1)\n",
            " 46%|████▋     | 84/181 [00:05<00:06, 14.88it/s]WARNING:phonemizer:words count mismatch on 100.0% of the lines (1/1)\n",
            "WARNING:phonemizer:words count mismatch on 100.0% of the lines (1/1)\n",
            " 48%|████▊     | 86/181 [00:05<00:06, 15.39it/s]WARNING:phonemizer:words count mismatch on 100.0% of the lines (1/1)\n",
            "WARNING:phonemizer:words count mismatch on 100.0% of the lines (1/1)\n",
            " 49%|████▊     | 88/181 [00:05<00:05, 15.80it/s]WARNING:phonemizer:words count mismatch on 200.0% of the lines (2/1)\n",
            "WARNING:phonemizer:words count mismatch on 100.0% of the lines (1/1)\n",
            " 50%|████▉     | 90/181 [00:05<00:05, 15.31it/s]WARNING:phonemizer:words count mismatch on 100.0% of the lines (1/1)\n",
            "WARNING:phonemizer:words count mismatch on 100.0% of the lines (1/1)\n",
            " 51%|█████     | 92/181 [00:05<00:05, 15.97it/s]WARNING:phonemizer:words count mismatch on 100.0% of the lines (1/1)\n",
            "WARNING:phonemizer:words count mismatch on 100.0% of the lines (1/1)\n",
            " 52%|█████▏    | 94/181 [00:05<00:05, 14.96it/s]WARNING:phonemizer:words count mismatch on 100.0% of the lines (1/1)\n",
            "WARNING:phonemizer:words count mismatch on 100.0% of the lines (1/1)\n",
            " 53%|█████▎    | 96/181 [00:05<00:05, 14.92it/s]WARNING:phonemizer:words count mismatch on 100.0% of the lines (1/1)\n",
            "WARNING:phonemizer:words count mismatch on 100.0% of the lines (1/1)\n",
            " 54%|█████▍    | 98/181 [00:06<00:05, 15.23it/s]WARNING:phonemizer:words count mismatch on 100.0% of the lines (1/1)\n",
            "WARNING:phonemizer:words count mismatch on 100.0% of the lines (1/1)\n",
            " 55%|█████▌    | 100/181 [00:06<00:05, 15.39it/s]WARNING:phonemizer:words count mismatch on 100.0% of the lines (1/1)\n",
            "WARNING:phonemizer:words count mismatch on 100.0% of the lines (1/1)\n",
            " 56%|█████▋    | 102/181 [00:06<00:05, 15.70it/s]WARNING:phonemizer:words count mismatch on 100.0% of the lines (1/1)\n",
            " 57%|█████▋    | 104/181 [00:06<00:04, 16.37it/s]WARNING:phonemizer:words count mismatch on 100.0% of the lines (1/1)\n",
            "WARNING:phonemizer:words count mismatch on 100.0% of the lines (1/1)\n",
            " 59%|█████▊    | 106/181 [00:06<00:05, 13.41it/s]WARNING:phonemizer:words count mismatch on 100.0% of the lines (1/1)\n",
            "WARNING:phonemizer:words count mismatch on 100.0% of the lines (1/1)\n",
            " 60%|█████▉    | 108/181 [00:06<00:05, 14.31it/s]WARNING:phonemizer:words count mismatch on 100.0% of the lines (1/1)\n",
            "WARNING:phonemizer:words count mismatch on 100.0% of the lines (1/1)\n",
            " 61%|██████    | 110/181 [00:06<00:04, 14.80it/s]WARNING:phonemizer:words count mismatch on 100.0% of the lines (1/1)\n",
            "WARNING:phonemizer:words count mismatch on 100.0% of the lines (1/1)\n",
            " 62%|██████▏   | 112/181 [00:06<00:04, 15.47it/s]WARNING:phonemizer:words count mismatch on 100.0% of the lines (1/1)\n",
            "WARNING:phonemizer:words count mismatch on 100.0% of the lines (1/1)\n",
            " 63%|██████▎   | 114/181 [00:07<00:04, 16.16it/s]WARNING:phonemizer:words count mismatch on 100.0% of the lines (1/1)\n",
            "WARNING:phonemizer:words count mismatch on 100.0% of the lines (1/1)\n",
            " 64%|██████▍   | 116/181 [00:07<00:04, 15.95it/s]WARNING:phonemizer:words count mismatch on 100.0% of the lines (1/1)\n",
            "WARNING:phonemizer:words count mismatch on 100.0% of the lines (1/1)\n",
            " 65%|██████▌   | 118/181 [00:07<00:03, 16.52it/s]WARNING:phonemizer:words count mismatch on 100.0% of the lines (1/1)\n",
            "WARNING:phonemizer:words count mismatch on 100.0% of the lines (1/1)\n",
            " 66%|██████▋   | 120/181 [00:07<00:03, 16.61it/s]WARNING:phonemizer:words count mismatch on 100.0% of the lines (1/1)\n",
            "WARNING:phonemizer:words count mismatch on 100.0% of the lines (1/1)\n",
            " 67%|██████▋   | 122/181 [00:07<00:03, 15.88it/s]WARNING:phonemizer:words count mismatch on 100.0% of the lines (1/1)\n",
            "WARNING:phonemizer:words count mismatch on 100.0% of the lines (1/1)\n",
            " 69%|██████▊   | 124/181 [00:07<00:03, 16.66it/s]WARNING:phonemizer:words count mismatch on 100.0% of the lines (1/1)\n",
            "WARNING:phonemizer:words count mismatch on 100.0% of the lines (1/1)\n",
            " 70%|██████▉   | 126/181 [00:07<00:03, 16.87it/s]WARNING:phonemizer:words count mismatch on 100.0% of the lines (1/1)\n",
            "WARNING:phonemizer:words count mismatch on 100.0% of the lines (1/1)\n",
            " 71%|███████   | 128/181 [00:07<00:03, 16.82it/s]WARNING:phonemizer:words count mismatch on 100.0% of the lines (1/1)\n",
            " 72%|███████▏  | 130/181 [00:08<00:03, 16.31it/s]WARNING:phonemizer:words count mismatch on 100.0% of the lines (1/1)\n",
            " 73%|███████▎  | 132/181 [00:08<00:03, 15.40it/s]WARNING:phonemizer:words count mismatch on 100.0% of the lines (1/1)\n",
            "WARNING:phonemizer:words count mismatch on 100.0% of the lines (1/1)\n",
            " 74%|███████▍  | 134/181 [00:08<00:03, 15.22it/s]WARNING:phonemizer:words count mismatch on 100.0% of the lines (1/1)\n",
            "WARNING:phonemizer:words count mismatch on 100.0% of the lines (1/1)\n",
            " 75%|███████▌  | 136/181 [00:08<00:03, 14.64it/s]WARNING:phonemizer:words count mismatch on 100.0% of the lines (1/1)\n",
            "WARNING:phonemizer:words count mismatch on 100.0% of the lines (1/1)\n",
            " 76%|███████▌  | 138/181 [00:08<00:02, 14.36it/s]WARNING:phonemizer:words count mismatch on 100.0% of the lines (1/1)\n",
            " 77%|███████▋  | 140/181 [00:08<00:02, 14.52it/s]WARNING:phonemizer:words count mismatch on 100.0% of the lines (1/1)\n",
            "WARNING:phonemizer:words count mismatch on 100.0% of the lines (1/1)\n",
            " 78%|███████▊  | 142/181 [00:08<00:02, 14.87it/s]WARNING:phonemizer:words count mismatch on 100.0% of the lines (1/1)\n",
            " 80%|███████▉  | 144/181 [00:09<00:02, 15.57it/s]WARNING:phonemizer:words count mismatch on 100.0% of the lines (1/1)\n",
            "WARNING:phonemizer:words count mismatch on 100.0% of the lines (1/1)\n",
            " 81%|████████  | 146/181 [00:09<00:02, 15.48it/s]WARNING:phonemizer:words count mismatch on 100.0% of the lines (1/1)\n",
            "WARNING:phonemizer:words count mismatch on 100.0% of the lines (1/1)\n",
            " 82%|████████▏ | 148/181 [00:09<00:02, 15.41it/s]WARNING:phonemizer:words count mismatch on 100.0% of the lines (1/1)\n",
            "WARNING:phonemizer:words count mismatch on 100.0% of the lines (1/1)\n",
            " 83%|████████▎ | 150/181 [00:09<00:02, 15.32it/s]WARNING:phonemizer:words count mismatch on 100.0% of the lines (1/1)\n",
            "WARNING:phonemizer:words count mismatch on 100.0% of the lines (1/1)\n",
            " 84%|████████▍ | 152/181 [00:09<00:02, 12.88it/s]WARNING:phonemizer:words count mismatch on 100.0% of the lines (1/1)\n",
            "WARNING:phonemizer:words count mismatch on 100.0% of the lines (1/1)\n",
            " 85%|████████▌ | 154/181 [00:09<00:02, 11.80it/s]WARNING:phonemizer:words count mismatch on 100.0% of the lines (1/1)\n",
            " 86%|████████▌ | 156/181 [00:10<00:02, 11.46it/s]WARNING:phonemizer:words count mismatch on 100.0% of the lines (1/1)\n",
            "WARNING:phonemizer:words count mismatch on 100.0% of the lines (1/1)\n",
            " 87%|████████▋ | 158/181 [00:10<00:02, 11.26it/s]WARNING:phonemizer:words count mismatch on 100.0% of the lines (1/1)\n",
            "WARNING:phonemizer:words count mismatch on 100.0% of the lines (1/1)\n",
            " 88%|████████▊ | 160/181 [00:10<00:01, 11.24it/s]WARNING:phonemizer:words count mismatch on 100.0% of the lines (1/1)\n",
            "WARNING:phonemizer:words count mismatch on 100.0% of the lines (1/1)\n",
            " 90%|████████▉ | 162/181 [00:10<00:01, 10.71it/s]WARNING:phonemizer:words count mismatch on 100.0% of the lines (1/1)\n",
            "WARNING:phonemizer:words count mismatch on 100.0% of the lines (1/1)\n",
            " 91%|█████████ | 164/181 [00:10<00:01, 10.34it/s]WARNING:phonemizer:words count mismatch on 100.0% of the lines (1/1)\n",
            "WARNING:phonemizer:words count mismatch on 100.0% of the lines (1/1)\n",
            " 92%|█████████▏| 166/181 [00:12<00:05,  2.94it/s]WARNING:phonemizer:words count mismatch on 100.0% of the lines (1/1)\n",
            " 92%|█████████▏| 167/181 [00:13<00:06,  2.12it/s]WARNING:phonemizer:words count mismatch on 100.0% of the lines (1/1)\n",
            " 93%|█████████▎| 168/181 [00:13<00:05,  2.37it/s]WARNING:phonemizer:words count mismatch on 100.0% of the lines (1/1)\n",
            " 93%|█████████▎| 169/181 [00:14<00:04,  2.77it/s]WARNING:phonemizer:words count mismatch on 100.0% of the lines (1/1)\n",
            " 94%|█████████▍| 170/181 [00:14<00:03,  3.11it/s]WARNING:phonemizer:words count mismatch on 100.0% of the lines (1/1)\n",
            " 94%|█████████▍| 171/181 [00:14<00:02,  3.61it/s]WARNING:phonemizer:words count mismatch on 100.0% of the lines (1/1)\n",
            " 95%|█████████▌| 172/181 [00:14<00:02,  4.17it/s]WARNING:phonemizer:words count mismatch on 100.0% of the lines (1/1)\n",
            " 96%|█████████▌| 173/181 [00:15<00:03,  2.44it/s]WARNING:phonemizer:words count mismatch on 100.0% of the lines (1/1)\n",
            " 96%|█████████▌| 174/181 [00:15<00:02,  3.10it/s]WARNING:phonemizer:words count mismatch on 100.0% of the lines (1/1)\n",
            " 97%|█████████▋| 175/181 [00:16<00:03,  1.66it/s]WARNING:phonemizer:words count mismatch on 100.0% of the lines (1/1)\n",
            " 97%|█████████▋| 176/181 [00:16<00:02,  2.15it/s]WARNING:phonemizer:words count mismatch on 100.0% of the lines (1/1)\n",
            "WARNING:phonemizer:words count mismatch on 100.0% of the lines (1/1)\n",
            " 98%|█████████▊| 178/181 [00:17<00:00,  3.52it/s]WARNING:phonemizer:words count mismatch on 100.0% of the lines (1/1)\n",
            "WARNING:phonemizer:words count mismatch on 100.0% of the lines (1/1)\n",
            " 99%|█████████▉| 180/181 [00:17<00:00,  5.08it/s]WARNING:phonemizer:words count mismatch on 100.0% of the lines (1/1)\n",
            "100%|██████████| 181/181 [00:17<00:00, 10.48it/s]\n"
          ]
        }
      ]
    },
    {
      "cell_type": "markdown",
      "source": [
        "\n",
        "### Change the finetuning config\n",
        "\n",
        "Depending on the GPU you got, you may want to change the bacth size, max audio length, epiochs and so on."
      ],
      "metadata": {
        "id": "_AlBQREWU8ud"
      }
    },
    {
      "cell_type": "code",
      "source": [
        "config_path = \"Configs/config_ft.yml\"\n",
        "\n",
        "import yaml\n",
        "config = yaml.safe_load(open(config_path))"
      ],
      "metadata": {
        "id": "7uEITi0hU4I2"
      },
      "execution_count": null,
      "outputs": []
    },
    {
      "cell_type": "code",
      "source": [
        "# @title Training Config\n",
        "dataset_path = \"Data/wavs\" # @param {type:\"string\"}\n",
        "batch_size = 2 # @param {type:\"number\"}\n",
        "max_len = 100 # @param {type:\"number\"}\n",
        "joint_epoch = 110 # @param {type:\"number\"}\n",
        "config['data_params']['root_path'] = dataset_path\n",
        "\n",
        "config['batch_size'] = batch_size # not enough RAM\n",
        "config['max_len'] = max_len # not enough RAM\n",
        "config['loss_params']['joint_epoch'] = joint_epoch # we do not do SLM adversarial training due to not enough RAM\n",
        "\n",
        "with open(config_path, 'w') as outfile:\n",
        "  yaml.dump(config, outfile, default_flow_style=True)"
      ],
      "metadata": {
        "id": "TPTRgOKSVT4K",
        "cellView": "form"
      },
      "execution_count": null,
      "outputs": []
    },
    {
      "cell_type": "markdown",
      "source": [
        "### Start finetuning\n"
      ],
      "metadata": {
        "id": "uUuB_19NWj2Y"
      }
    },
    {
      "cell_type": "code",
      "source": [
        "!python train_finetune.py --config_path ./Configs/config_ft.yml"
      ],
      "metadata": {
        "id": "HZVAD5GKWm-O"
      },
      "execution_count": null,
      "outputs": []
    },
    {
      "cell_type": "markdown",
      "source": [
        "### Test the model quality\n",
        "\n",
        "Note that this mainly serves as a proof of concept due to RAM limitation of free Colab instances. A lot of settings are suboptimal. In the future when DDP works for train_second.py, we will also add mixed precision finetuning to save time and RAM. You can also add SLM adversarial training run if you have paid Colab services (such as A100 with 40G of RAM)."
      ],
      "metadata": {
        "id": "I0_7wsGkXGfc"
      }
    },
    {
      "cell_type": "code",
      "source": [
        "import nltk\n",
        "nltk.download('punkt')"
      ],
      "metadata": {
        "id": "OPLphjbncE7p"
      },
      "execution_count": null,
      "outputs": []
    },
    {
      "cell_type": "code",
      "source": [
        "import torch\n",
        "torch.manual_seed(0)\n",
        "torch.backends.cudnn.benchmark = False\n",
        "torch.backends.cudnn.deterministic = True\n",
        "\n",
        "import random\n",
        "random.seed(0)\n",
        "\n",
        "import numpy as np\n",
        "np.random.seed(0)\n",
        "\n",
        "# load packages\n",
        "import time\n",
        "import random\n",
        "import yaml\n",
        "from munch import Munch\n",
        "import numpy as np\n",
        "import torch\n",
        "from torch import nn\n",
        "import torch.nn.functional as F\n",
        "import torchaudio\n",
        "import librosa\n",
        "from nltk.tokenize import word_tokenize\n",
        "\n",
        "from models import *\n",
        "from utils import *\n",
        "from text_utils import TextCleaner\n",
        "textclenaer = TextCleaner()\n",
        "\n",
        "%matplotlib inline\n",
        "\n",
        "to_mel = torchaudio.transforms.MelSpectrogram(\n",
        "    n_mels=80, n_fft=2048, win_length=1200, hop_length=300)\n",
        "mean, std = -4, 4\n",
        "\n",
        "def length_to_mask(lengths):\n",
        "    mask = torch.arange(lengths.max()).unsqueeze(0).expand(lengths.shape[0], -1).type_as(lengths)\n",
        "    mask = torch.gt(mask+1, lengths.unsqueeze(1))\n",
        "    return mask\n",
        "\n",
        "def preprocess(wave):\n",
        "    wave_tensor = torch.from_numpy(wave).float()\n",
        "    mel_tensor = to_mel(wave_tensor)\n",
        "    mel_tensor = (torch.log(1e-5 + mel_tensor.unsqueeze(0)) - mean) / std\n",
        "    return mel_tensor\n",
        "\n",
        "def compute_style(path):\n",
        "    wave, sr = librosa.load(path, sr=24000)\n",
        "    audio, index = librosa.effects.trim(wave, top_db=30)\n",
        "    if sr != 24000:\n",
        "        audio = librosa.resample(audio, sr, 24000)\n",
        "    mel_tensor = preprocess(audio).to(device)\n",
        "\n",
        "    with torch.no_grad():\n",
        "        ref_s = model.style_encoder(mel_tensor.unsqueeze(1))\n",
        "        ref_p = model.predictor_encoder(mel_tensor.unsqueeze(1))\n",
        "\n",
        "    return torch.cat([ref_s, ref_p], dim=1)\n",
        "\n",
        "device = 'cuda' if torch.cuda.is_available() else 'cpu'\n",
        "\n",
        "# load phonemizer\n",
        "import phonemizer\n",
        "global_phonemizer = phonemizer.backend.EspeakBackend(language='en-us', preserve_punctuation=True,  with_stress=True)\n",
        "\n",
        "config = yaml.safe_load(open(\"Models/LJSpeech/config_ft.yml\"))\n",
        "\n",
        "# load pretrained ASR model\n",
        "ASR_config = config.get('ASR_config', False)\n",
        "ASR_path = config.get('ASR_path', False)\n",
        "text_aligner = load_ASR_models(ASR_path, ASR_config)\n",
        "\n",
        "# load pretrained F0 model\n",
        "F0_path = config.get('F0_path', False)\n",
        "pitch_extractor = load_F0_models(F0_path)\n",
        "\n",
        "# load BERT model\n",
        "from Utils.PLBERT.util import load_plbert\n",
        "BERT_path = config.get('PLBERT_dir', False)\n",
        "plbert = load_plbert(BERT_path)\n",
        "\n",
        "model_params = recursive_munch(config['model_params'])\n",
        "model = build_model(model_params, text_aligner, pitch_extractor, plbert)\n",
        "_ = [model[key].eval() for key in model]\n",
        "_ = [model[key].to(device) for key in model]"
      ],
      "metadata": {
        "id": "jIIAoDACXJL0"
      },
      "execution_count": null,
      "outputs": []
    },
    {
      "cell_type": "code",
      "source": [
        "files = [f for f in os.listdir(\"Models/LJSpeech/\") if f.endswith('.pth')]\n",
        "sorted_files = sorted(files, key=lambda x: int(x.split('_')[-1].split('.')[0]))"
      ],
      "metadata": {
        "id": "eKXRAyyzcMpQ"
      },
      "execution_count": null,
      "outputs": []
    },
    {
      "cell_type": "code",
      "source": [
        "params_whole = torch.load(\"Models/LJSpeech/\" + sorted_files[-1], map_location='cpu')\n",
        "params = params_whole['net']"
      ],
      "metadata": {
        "id": "ULuU9-VDb9Pk"
      },
      "execution_count": null,
      "outputs": []
    },
    {
      "cell_type": "code",
      "source": [
        "for key in model:\n",
        "    if key in params:\n",
        "        print('%s loaded' % key)\n",
        "        try:\n",
        "            model[key].load_state_dict(params[key])\n",
        "        except:\n",
        "            from collections import OrderedDict\n",
        "            state_dict = params[key]\n",
        "            new_state_dict = OrderedDict()\n",
        "            for k, v in state_dict.items():\n",
        "                name = k[7:] # remove `module.`\n",
        "                new_state_dict[name] = v\n",
        "            # load params\n",
        "            model[key].load_state_dict(new_state_dict, strict=False)\n",
        "#             except:\n",
        "#                 _load(params[key], model[key])\n",
        "_ = [model[key].eval() for key in model]"
      ],
      "metadata": {
        "id": "J-U29yIYc2ea"
      },
      "execution_count": null,
      "outputs": []
    },
    {
      "cell_type": "code",
      "source": [
        "from Modules.diffusion.sampler import DiffusionSampler, ADPM2Sampler, KarrasSchedule"
      ],
      "metadata": {
        "id": "jrPQ_Yrwc3n6"
      },
      "execution_count": null,
      "outputs": []
    },
    {
      "cell_type": "code",
      "source": [
        "sampler = DiffusionSampler(\n",
        "    model.diffusion.diffusion,\n",
        "    sampler=ADPM2Sampler(),\n",
        "    sigma_schedule=KarrasSchedule(sigma_min=0.0001, sigma_max=3.0, rho=9.0), # empirical parameters\n",
        "    clamp=False\n",
        ")"
      ],
      "metadata": {
        "id": "n2CWYNoqc455"
      },
      "execution_count": null,
      "outputs": []
    },
    {
      "cell_type": "code",
      "source": [
        "def inference(text, ref_s, alpha = 0.3, beta = 0.7, diffusion_steps=5, embedding_scale=1):\n",
        "    text = text.strip()\n",
        "    ps = global_phonemizer.phonemize([text])\n",
        "    ps = word_tokenize(ps[0])\n",
        "    ps = ' '.join(ps)\n",
        "    tokens = textclenaer(ps)\n",
        "    tokens.insert(0, 0)\n",
        "    tokens = torch.LongTensor(tokens).to(device).unsqueeze(0)\n",
        "\n",
        "    with torch.no_grad():\n",
        "        input_lengths = torch.LongTensor([tokens.shape[-1]]).to(device)\n",
        "        text_mask = length_to_mask(input_lengths).to(device)\n",
        "\n",
        "        t_en = model.text_encoder(tokens, input_lengths, text_mask)\n",
        "        bert_dur = model.bert(tokens, attention_mask=(~text_mask).int())\n",
        "        d_en = model.bert_encoder(bert_dur).transpose(-1, -2)\n",
        "\n",
        "        s_pred = sampler(noise = torch.randn((1, 256)).unsqueeze(1).to(device),\n",
        "                                          embedding=bert_dur,\n",
        "                                          embedding_scale=embedding_scale,\n",
        "                                            features=ref_s, # reference from the same speaker as the embedding\n",
        "                                             num_steps=diffusion_steps).squeeze(1)\n",
        "\n",
        "\n",
        "        s = s_pred[:, 128:]\n",
        "        ref = s_pred[:, :128]\n",
        "\n",
        "        ref = alpha * ref + (1 - alpha)  * ref_s[:, :128]\n",
        "        s = beta * s + (1 - beta)  * ref_s[:, 128:]\n",
        "\n",
        "        d = model.predictor.text_encoder(d_en,\n",
        "                                         s, input_lengths, text_mask)\n",
        "\n",
        "        x, _ = model.predictor.lstm(d)\n",
        "        duration = model.predictor.duration_proj(x)\n",
        "\n",
        "        duration = torch.sigmoid(duration).sum(axis=-1)\n",
        "        pred_dur = torch.round(duration.squeeze()).clamp(min=1)\n",
        "\n",
        "        pred_aln_trg = torch.zeros(input_lengths, int(pred_dur.sum().data))\n",
        "        c_frame = 0\n",
        "        for i in range(pred_aln_trg.size(0)):\n",
        "            pred_aln_trg[i, c_frame:c_frame + int(pred_dur[i].data)] = 1\n",
        "            c_frame += int(pred_dur[i].data)\n",
        "\n",
        "        # encode prosody\n",
        "        en = (d.transpose(-1, -2) @ pred_aln_trg.unsqueeze(0).to(device))\n",
        "        if model_params.decoder.type == \"hifigan\":\n",
        "            asr_new = torch.zeros_like(en)\n",
        "            asr_new[:, :, 0] = en[:, :, 0]\n",
        "            asr_new[:, :, 1:] = en[:, :, 0:-1]\n",
        "            en = asr_new\n",
        "\n",
        "        F0_pred, N_pred = model.predictor.F0Ntrain(en, s)\n",
        "\n",
        "        asr = (t_en @ pred_aln_trg.unsqueeze(0).to(device))\n",
        "        if model_params.decoder.type == \"hifigan\":\n",
        "            asr_new = torch.zeros_like(asr)\n",
        "            asr_new[:, :, 0] = asr[:, :, 0]\n",
        "            asr_new[:, :, 1:] = asr[:, :, 0:-1]\n",
        "            asr = asr_new\n",
        "\n",
        "        out = model.decoder(asr,\n",
        "                                F0_pred, N_pred, ref.squeeze().unsqueeze(0))\n",
        "\n",
        "\n",
        "    return out.squeeze().cpu().numpy()[..., :-50] # weird pulse at the end of the model, need to be fixed later"
      ],
      "metadata": {
        "id": "2x5kVb3nc_eY"
      },
      "execution_count": null,
      "outputs": []
    },
    {
      "cell_type": "markdown",
      "source": [
        "### Synthesize speech"
      ],
      "metadata": {
        "id": "O159JnwCc6CC"
      }
    },
    {
      "cell_type": "code",
      "source": [
        "text = '''Maltby and Company would issue warrants on them deliverable to the importer, and the goods were then passed to be stored in neighboring warehouses.\n",
        "'''"
      ],
      "metadata": {
        "id": "ThciXQ6rc9Eq"
      },
      "execution_count": null,
      "outputs": []
    },
    {
      "cell_type": "code",
      "source": [
        "# get a random reference in the training set, note that it doesn't matter which one you use\n",
        "path = \"Data/wavs/LJ001-0110.wav\"\n",
        "# this style vector ref_s can be saved as a parameter together with the model weights\n",
        "ref_s = compute_style(path)"
      ],
      "metadata": {
        "id": "jldPkJyCc83a"
      },
      "execution_count": null,
      "outputs": []
    },
    {
      "cell_type": "code",
      "source": [
        "start = time.time()\n",
        "wav = inference(text, ref_s, alpha=0.9, beta=0.9, diffusion_steps=10, embedding_scale=1)\n",
        "rtf = (time.time() - start) / (len(wav) / 24000)\n",
        "print(f\"RTF = {rtf:5f}\")\n",
        "import IPython.display as ipd\n",
        "display(ipd.Audio(wav, rate=24000, normalize=False))"
      ],
      "metadata": {
        "id": "_mIU0jqDdQ-c"
      },
      "execution_count": null,
      "outputs": []
    }
  ]
}